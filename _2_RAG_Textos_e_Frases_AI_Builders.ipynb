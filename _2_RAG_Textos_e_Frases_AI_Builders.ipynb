{
  "nbformat": 4,
  "nbformat_minor": 0,
  "metadata": {
    "colab": {
      "provenance": [],
      "include_colab_link": true
    },
    "kernelspec": {
      "name": "python3",
      "display_name": "Python 3"
    },
    "language_info": {
      "name": "python"
    }
  },
  "cells": [
    {
      "cell_type": "markdown",
      "metadata": {
        "id": "view-in-github",
        "colab_type": "text"
      },
      "source": [
        "<a href=\"https://colab.research.google.com/github/luiz10luiz10/projetoAiBuiderss/blob/main/_2_RAG_Textos_e_Frases_AI_Builders.ipynb\" target=\"_parent\"><img src=\"https://colab.research.google.com/assets/colab-badge.svg\" alt=\"Open In Colab\"/></a>"
      ]
    },
    {
      "cell_type": "code",
      "execution_count": null,
      "metadata": {
        "id": "bTHlSWUKl_Lo",
        "colab": {
          "base_uri": "https://localhost:8080/"
        },
        "outputId": "40c29c82-41ed-4005-91cc-ea6af2a52b2e"
      },
      "outputs": [
        {
          "output_type": "stream",
          "name": "stdout",
          "text": [
            "\u001b[?25l   \u001b[90m━━━━━━━━━━━━━━━━━━━━━━━━━━━━━━━━━━━━━━━━\u001b[0m \u001b[32m0.0/386.9 kB\u001b[0m \u001b[31m?\u001b[0m eta \u001b[36m-:--:--\u001b[0m\r\u001b[2K   \u001b[90m━━━━━━━━━━━━━━━━━━━━━━━━━━━━━━━━━━━━━━━━\u001b[0m \u001b[32m386.9/386.9 kB\u001b[0m \u001b[31m22.5 MB/s\u001b[0m eta \u001b[36m0:00:00\u001b[0m\n",
            "\u001b[?25h\u001b[?25l   \u001b[90m━━━━━━━━━━━━━━━━━━━━━━━━━━━━━━━━━━━━━━━━\u001b[0m \u001b[32m0.0/76.4 kB\u001b[0m \u001b[31m?\u001b[0m eta \u001b[36m-:--:--\u001b[0m\r\u001b[2K   \u001b[90m━━━━━━━━━━━━━━━━━━━━━━━━━━━━━━━━━━━━━━━━\u001b[0m \u001b[32m76.4/76.4 kB\u001b[0m \u001b[31m6.3 MB/s\u001b[0m eta \u001b[36m0:00:00\u001b[0m\n",
            "\u001b[?25h\u001b[?25l   \u001b[90m━━━━━━━━━━━━━━━━━━━━━━━━━━━━━━━━━━━━━━━━\u001b[0m \u001b[32m0.0/78.0 kB\u001b[0m \u001b[31m?\u001b[0m eta \u001b[36m-:--:--\u001b[0m\r\u001b[2K   \u001b[90m━━━━━━━━━━━━━━━━━━━━━━━━━━━━━━━━━━━━━━━━\u001b[0m \u001b[32m78.0/78.0 kB\u001b[0m \u001b[31m5.6 MB/s\u001b[0m eta \u001b[36m0:00:00\u001b[0m\n",
            "\u001b[?25h\u001b[?25l   \u001b[90m━━━━━━━━━━━━━━━━━━━━━━━━━━━━━━━━━━━━━━━━\u001b[0m \u001b[32m0.0/325.2 kB\u001b[0m \u001b[31m?\u001b[0m eta \u001b[36m-:--:--\u001b[0m\r\u001b[2K   \u001b[90m━━━━━━━━━━━━━━━━━━━━━━━━━━━━━━━━━━━━━━━━\u001b[0m \u001b[32m325.2/325.2 kB\u001b[0m \u001b[31m21.5 MB/s\u001b[0m eta \u001b[36m0:00:00\u001b[0m\n",
            "\u001b[?25h\u001b[?25l   \u001b[90m━━━━━━━━━━━━━━━━━━━━━━━━━━━━━━━━━━━━━━━━\u001b[0m \u001b[32m0.0/58.3 kB\u001b[0m \u001b[31m?\u001b[0m eta \u001b[36m-:--:--\u001b[0m\r\u001b[2K   \u001b[90m━━━━━━━━━━━━━━━━━━━━━━━━━━━━━━━━━━━━━━━━\u001b[0m \u001b[32m58.3/58.3 kB\u001b[0m \u001b[31m5.0 MB/s\u001b[0m eta \u001b[36m0:00:00\u001b[0m\n",
            "\u001b[?25h"
          ]
        }
      ],
      "source": [
        "!pip install openai --quiet"
      ]
    },
    {
      "cell_type": "code",
      "source": [
        "from google.colab import userdata\n",
        "userdata.get('openai_api_key')\n",
        "\n",
        "import openai\n",
        "import pandas as pd\n",
        "import numpy as np\n",
        "\n",
        "from openai import OpenAI\n",
        "client = OpenAI(api_key=userdata.get('openai_api_key'))\n"
      ],
      "metadata": {
        "id": "Y00If7AxmWap"
      },
      "execution_count": null,
      "outputs": []
    },
    {
      "cell_type": "markdown",
      "source": [
        "## Importaremos um arquivo com uma lista de palavras"
      ],
      "metadata": {
        "id": "biuisB-_AMYF"
      }
    },
    {
      "cell_type": "code",
      "source": [
        "df = pd.read_csv('pizzas_ingredientes.csv')\n",
        "print(df)"
      ],
      "metadata": {
        "colab": {
          "base_uri": "https://localhost:8080/"
        },
        "id": "BNl6sS1m7MTH",
        "outputId": "1202ef57-f8c8-4f06-f486-bf85c38a0959"
      },
      "execution_count": null,
      "outputs": [
        {
          "output_type": "stream",
          "name": "stdout",
          "text": [
            "          Nome da Pizza                                       Ingredientes\n",
            "0            Margherita                      Tomate, Mussarela, Manjericão\n",
            "1             Pepperoni                               Mussarela, Pepperoni\n",
            "2        Quatro Queijos         Mussarela, Parmesão, Gorgonzola, Provolone\n",
            "3            Portuguesa  Mussarela, Presunto, Ovo, Cebola, Pimentão, Az...\n",
            "4             Calabresa                       Mussarela, Calabresa, Cebola\n",
            "5   Frango com Catupiry                        Frango, Catupiry, Mussarela\n",
            "6            Napolitana                        Tomate, Mussarela, Azeitona\n",
            "7              Havaiana                       Mussarela, Presunto, Abacaxi\n",
            "8           Vegetariana      Mussarela, Tomate, Pimentão, Azeitona, Cebola\n",
            "9                  Atum                            Atum, Cebola, Mussarela\n",
            "10             Mexicana         Mussarela, Carne Moída, Jalapeño, Pimentão\n",
            "11              Caprese     Mussarela, Tomate, Manjericão, Azeite de Oliva\n",
            "12          Alho e Óleo                   Mussarela, Alho, Azeite de Oliva\n",
            "13                Pesto                     Molho Pesto, Mussarela, Tomate\n",
            "14              Camarão           Camarão, Mussarela, Tomate, Cebola, Alho\n"
          ]
        }
      ]
    },
    {
      "cell_type": "markdown",
      "source": [
        "## Preparando Funções\n",
        "- Get Embedding para transformar texto em vetores\n",
        "- Cosine Similarity para buscar por similaridade nos vetores\n",
        "\n",
        "https://en.wikipedia.org/wiki/Cosine_similarity\n"
      ],
      "metadata": {
        "id": "h59IFOJwAQ29"
      }
    },
    {
      "cell_type": "code",
      "source": [
        "def get_embedding(text, model=\"text-embedding-3-small\"):\n",
        "   text = text.replace(\"\\n\", \" \")\n",
        "   print(\"Text: \", text)\n",
        "   response = client.embeddings.create(\n",
        "       input=text,\n",
        "       model=model\n",
        "    )\n",
        "   return response.data[0].embedding\n",
        "\n",
        "def cosine_similarity(a, b):\n",
        "    return np.dot(a, b) / (np.linalg.norm(a) * np.linalg.norm(b))"
      ],
      "metadata": {
        "id": "3vVRHGJU7kIx"
      },
      "execution_count": null,
      "outputs": []
    },
    {
      "cell_type": "code",
      "source": [
        "df[\"embedding\"] = df[\"Ingredientes\"].apply(lambda x: get_embedding(x))\n",
        "df.to_csv(\"embedded_pizzas_ingredientes.csv\")"
      ],
      "metadata": {
        "colab": {
          "base_uri": "https://localhost:8080/"
        },
        "id": "hRZCYkqY87Pl",
        "outputId": "3675d7c2-2a96-4d19-ee84-c2b7c2610afc"
      },
      "execution_count": null,
      "outputs": [
        {
          "output_type": "stream",
          "name": "stdout",
          "text": [
            "Text:  Tomate, Mussarela, Manjericão\n",
            "Text:  Mussarela, Pepperoni\n",
            "Text:  Mussarela, Parmesão, Gorgonzola, Provolone\n",
            "Text:  Mussarela, Presunto, Ovo, Cebola, Pimentão, Azeitona\n",
            "Text:  Mussarela, Calabresa, Cebola\n",
            "Text:  Frango, Catupiry, Mussarela\n",
            "Text:  Tomate, Mussarela, Azeitona\n",
            "Text:  Mussarela, Presunto, Abacaxi\n",
            "Text:  Mussarela, Tomate, Pimentão, Azeitona, Cebola\n",
            "Text:  Atum, Cebola, Mussarela\n",
            "Text:  Mussarela, Carne Moída, Jalapeño, Pimentão\n",
            "Text:  Mussarela, Tomate, Manjericão, Azeite de Oliva\n",
            "Text:  Mussarela, Alho, Azeite de Oliva\n",
            "Text:  Molho Pesto, Mussarela, Tomate\n",
            "Text:  Camarão, Mussarela, Tomate, Cebola, Alho\n"
          ]
        }
      ]
    },
    {
      "cell_type": "code",
      "source": [
        "busca = input(\"Digite uma palavra: \")"
      ],
      "metadata": {
        "colab": {
          "base_uri": "https://localhost:8080/"
        },
        "id": "rG1VbCXU9kOw",
        "outputId": "3bfb236c-58a6-44de-9a31-10b9389765cb"
      },
      "execution_count": null,
      "outputs": [
        {
          "name": "stdout",
          "output_type": "stream",
          "text": [
            "Digite uma palavra: pizzas com mussarela\n"
          ]
        }
      ]
    },
    {
      "cell_type": "code",
      "source": [
        "busca_vetor = get_embedding(busca)"
      ],
      "metadata": {
        "colab": {
          "base_uri": "https://localhost:8080/"
        },
        "id": "pqd_e5qVh7OB",
        "outputId": "b8c8af44-b9cc-478d-934a-6ee115f2506b"
      },
      "execution_count": null,
      "outputs": [
        {
          "output_type": "stream",
          "name": "stdout",
          "text": [
            "Text:  pizzas com mussarela\n"
          ]
        }
      ]
    },
    {
      "cell_type": "code",
      "source": [
        "df[\"similarity\"] = df[\"embedding\"].apply(lambda x: cosine_similarity(x, busca_vetor))\n",
        "df.sort_values(\"similarity\", ascending=False)"
      ],
      "metadata": {
        "colab": {
          "base_uri": "https://localhost:8080/",
          "height": 519
        },
        "id": "Nw8vxkXK-GQj",
        "outputId": "b50f358a-2775-4cf9-f8d4-b5406589bcd5"
      },
      "execution_count": null,
      "outputs": [
        {
          "output_type": "execute_result",
          "data": {
            "text/plain": [
              "          Nome da Pizza                                       Ingredientes  \\\n",
              "13                Pesto                     Molho Pesto, Mussarela, Tomate   \n",
              "1             Pepperoni                               Mussarela, Pepperoni   \n",
              "2        Quatro Queijos         Mussarela, Parmesão, Gorgonzola, Provolone   \n",
              "14              Camarão           Camarão, Mussarela, Tomate, Cebola, Alho   \n",
              "0            Margherita                      Tomate, Mussarela, Manjericão   \n",
              "11              Caprese     Mussarela, Tomate, Manjericão, Azeite de Oliva   \n",
              "12          Alho e Óleo                   Mussarela, Alho, Azeite de Oliva   \n",
              "10             Mexicana         Mussarela, Carne Moída, Jalapeño, Pimentão   \n",
              "3            Portuguesa  Mussarela, Presunto, Ovo, Cebola, Pimentão, Az...   \n",
              "4             Calabresa                       Mussarela, Calabresa, Cebola   \n",
              "8           Vegetariana      Mussarela, Tomate, Pimentão, Azeitona, Cebola   \n",
              "6            Napolitana                        Tomate, Mussarela, Azeitona   \n",
              "9                  Atum                            Atum, Cebola, Mussarela   \n",
              "5   Frango com Catupiry                        Frango, Catupiry, Mussarela   \n",
              "7              Havaiana                       Mussarela, Presunto, Abacaxi   \n",
              "\n",
              "                                            embedding  similarity  \n",
              "13  [0.0008008241420611739, -0.005471860524266958,...    0.640757  \n",
              "1   [-0.009283523075282574, -0.0289885513484478, -...    0.617466  \n",
              "2   [-0.010491698980331421, -0.009639249183237553,...    0.605024  \n",
              "14  [0.03242151066660881, -0.007081347517669201, 0...    0.547741  \n",
              "0   [0.00037920422619208694, 0.031122738495469093,...    0.538871  \n",
              "11  [-0.004945764783769846, 0.025522587820887566, ...    0.525053  \n",
              "12  [-0.0019337033154442906, 0.014779691584408283,...    0.519474  \n",
              "10  [0.01758684776723385, 0.02502024918794632, -0....    0.512044  \n",
              "3   [0.010393406264483929, -0.016795657575130463, ...    0.506171  \n",
              "4   [0.022102879360318184, -0.021931705996394157, ...    0.502350  \n",
              "8   [0.01760433241724968, -0.005323647055774927, 0...    0.499346  \n",
              "6   [0.020262328907847404, -0.017631301656365395, ...    0.493720  \n",
              "9   [0.02982475236058235, -0.018249157816171646, -...    0.487021  \n",
              "5   [0.004222954623401165, -0.04727419093251228, -...    0.484088  \n",
              "7   [0.0013515540631487966, -0.01919221505522728, ...    0.463414  "
            ],
            "text/html": [
              "\n",
              "  <div id=\"df-807e693c-4570-4452-87f7-e68f84cac4c5\" class=\"colab-df-container\">\n",
              "    <div>\n",
              "<style scoped>\n",
              "    .dataframe tbody tr th:only-of-type {\n",
              "        vertical-align: middle;\n",
              "    }\n",
              "\n",
              "    .dataframe tbody tr th {\n",
              "        vertical-align: top;\n",
              "    }\n",
              "\n",
              "    .dataframe thead th {\n",
              "        text-align: right;\n",
              "    }\n",
              "</style>\n",
              "<table border=\"1\" class=\"dataframe\">\n",
              "  <thead>\n",
              "    <tr style=\"text-align: right;\">\n",
              "      <th></th>\n",
              "      <th>Nome da Pizza</th>\n",
              "      <th>Ingredientes</th>\n",
              "      <th>embedding</th>\n",
              "      <th>similarity</th>\n",
              "    </tr>\n",
              "  </thead>\n",
              "  <tbody>\n",
              "    <tr>\n",
              "      <th>13</th>\n",
              "      <td>Pesto</td>\n",
              "      <td>Molho Pesto, Mussarela, Tomate</td>\n",
              "      <td>[0.0008008241420611739, -0.005471860524266958,...</td>\n",
              "      <td>0.640757</td>\n",
              "    </tr>\n",
              "    <tr>\n",
              "      <th>1</th>\n",
              "      <td>Pepperoni</td>\n",
              "      <td>Mussarela, Pepperoni</td>\n",
              "      <td>[-0.009283523075282574, -0.0289885513484478, -...</td>\n",
              "      <td>0.617466</td>\n",
              "    </tr>\n",
              "    <tr>\n",
              "      <th>2</th>\n",
              "      <td>Quatro Queijos</td>\n",
              "      <td>Mussarela, Parmesão, Gorgonzola, Provolone</td>\n",
              "      <td>[-0.010491698980331421, -0.009639249183237553,...</td>\n",
              "      <td>0.605024</td>\n",
              "    </tr>\n",
              "    <tr>\n",
              "      <th>14</th>\n",
              "      <td>Camarão</td>\n",
              "      <td>Camarão, Mussarela, Tomate, Cebola, Alho</td>\n",
              "      <td>[0.03242151066660881, -0.007081347517669201, 0...</td>\n",
              "      <td>0.547741</td>\n",
              "    </tr>\n",
              "    <tr>\n",
              "      <th>0</th>\n",
              "      <td>Margherita</td>\n",
              "      <td>Tomate, Mussarela, Manjericão</td>\n",
              "      <td>[0.00037920422619208694, 0.031122738495469093,...</td>\n",
              "      <td>0.538871</td>\n",
              "    </tr>\n",
              "    <tr>\n",
              "      <th>11</th>\n",
              "      <td>Caprese</td>\n",
              "      <td>Mussarela, Tomate, Manjericão, Azeite de Oliva</td>\n",
              "      <td>[-0.004945764783769846, 0.025522587820887566, ...</td>\n",
              "      <td>0.525053</td>\n",
              "    </tr>\n",
              "    <tr>\n",
              "      <th>12</th>\n",
              "      <td>Alho e Óleo</td>\n",
              "      <td>Mussarela, Alho, Azeite de Oliva</td>\n",
              "      <td>[-0.0019337033154442906, 0.014779691584408283,...</td>\n",
              "      <td>0.519474</td>\n",
              "    </tr>\n",
              "    <tr>\n",
              "      <th>10</th>\n",
              "      <td>Mexicana</td>\n",
              "      <td>Mussarela, Carne Moída, Jalapeño, Pimentão</td>\n",
              "      <td>[0.01758684776723385, 0.02502024918794632, -0....</td>\n",
              "      <td>0.512044</td>\n",
              "    </tr>\n",
              "    <tr>\n",
              "      <th>3</th>\n",
              "      <td>Portuguesa</td>\n",
              "      <td>Mussarela, Presunto, Ovo, Cebola, Pimentão, Az...</td>\n",
              "      <td>[0.010393406264483929, -0.016795657575130463, ...</td>\n",
              "      <td>0.506171</td>\n",
              "    </tr>\n",
              "    <tr>\n",
              "      <th>4</th>\n",
              "      <td>Calabresa</td>\n",
              "      <td>Mussarela, Calabresa, Cebola</td>\n",
              "      <td>[0.022102879360318184, -0.021931705996394157, ...</td>\n",
              "      <td>0.502350</td>\n",
              "    </tr>\n",
              "    <tr>\n",
              "      <th>8</th>\n",
              "      <td>Vegetariana</td>\n",
              "      <td>Mussarela, Tomate, Pimentão, Azeitona, Cebola</td>\n",
              "      <td>[0.01760433241724968, -0.005323647055774927, 0...</td>\n",
              "      <td>0.499346</td>\n",
              "    </tr>\n",
              "    <tr>\n",
              "      <th>6</th>\n",
              "      <td>Napolitana</td>\n",
              "      <td>Tomate, Mussarela, Azeitona</td>\n",
              "      <td>[0.020262328907847404, -0.017631301656365395, ...</td>\n",
              "      <td>0.493720</td>\n",
              "    </tr>\n",
              "    <tr>\n",
              "      <th>9</th>\n",
              "      <td>Atum</td>\n",
              "      <td>Atum, Cebola, Mussarela</td>\n",
              "      <td>[0.02982475236058235, -0.018249157816171646, -...</td>\n",
              "      <td>0.487021</td>\n",
              "    </tr>\n",
              "    <tr>\n",
              "      <th>5</th>\n",
              "      <td>Frango com Catupiry</td>\n",
              "      <td>Frango, Catupiry, Mussarela</td>\n",
              "      <td>[0.004222954623401165, -0.04727419093251228, -...</td>\n",
              "      <td>0.484088</td>\n",
              "    </tr>\n",
              "    <tr>\n",
              "      <th>7</th>\n",
              "      <td>Havaiana</td>\n",
              "      <td>Mussarela, Presunto, Abacaxi</td>\n",
              "      <td>[0.0013515540631487966, -0.01919221505522728, ...</td>\n",
              "      <td>0.463414</td>\n",
              "    </tr>\n",
              "  </tbody>\n",
              "</table>\n",
              "</div>\n",
              "    <div class=\"colab-df-buttons\">\n",
              "\n",
              "  <div class=\"colab-df-container\">\n",
              "    <button class=\"colab-df-convert\" onclick=\"convertToInteractive('df-807e693c-4570-4452-87f7-e68f84cac4c5')\"\n",
              "            title=\"Convert this dataframe to an interactive table.\"\n",
              "            style=\"display:none;\">\n",
              "\n",
              "  <svg xmlns=\"http://www.w3.org/2000/svg\" height=\"24px\" viewBox=\"0 -960 960 960\">\n",
              "    <path d=\"M120-120v-720h720v720H120Zm60-500h600v-160H180v160Zm220 220h160v-160H400v160Zm0 220h160v-160H400v160ZM180-400h160v-160H180v160Zm440 0h160v-160H620v160ZM180-180h160v-160H180v160Zm440 0h160v-160H620v160Z\"/>\n",
              "  </svg>\n",
              "    </button>\n",
              "\n",
              "  <style>\n",
              "    .colab-df-container {\n",
              "      display:flex;\n",
              "      gap: 12px;\n",
              "    }\n",
              "\n",
              "    .colab-df-convert {\n",
              "      background-color: #E8F0FE;\n",
              "      border: none;\n",
              "      border-radius: 50%;\n",
              "      cursor: pointer;\n",
              "      display: none;\n",
              "      fill: #1967D2;\n",
              "      height: 32px;\n",
              "      padding: 0 0 0 0;\n",
              "      width: 32px;\n",
              "    }\n",
              "\n",
              "    .colab-df-convert:hover {\n",
              "      background-color: #E2EBFA;\n",
              "      box-shadow: 0px 1px 2px rgba(60, 64, 67, 0.3), 0px 1px 3px 1px rgba(60, 64, 67, 0.15);\n",
              "      fill: #174EA6;\n",
              "    }\n",
              "\n",
              "    .colab-df-buttons div {\n",
              "      margin-bottom: 4px;\n",
              "    }\n",
              "\n",
              "    [theme=dark] .colab-df-convert {\n",
              "      background-color: #3B4455;\n",
              "      fill: #D2E3FC;\n",
              "    }\n",
              "\n",
              "    [theme=dark] .colab-df-convert:hover {\n",
              "      background-color: #434B5C;\n",
              "      box-shadow: 0px 1px 3px 1px rgba(0, 0, 0, 0.15);\n",
              "      filter: drop-shadow(0px 1px 2px rgba(0, 0, 0, 0.3));\n",
              "      fill: #FFFFFF;\n",
              "    }\n",
              "  </style>\n",
              "\n",
              "    <script>\n",
              "      const buttonEl =\n",
              "        document.querySelector('#df-807e693c-4570-4452-87f7-e68f84cac4c5 button.colab-df-convert');\n",
              "      buttonEl.style.display =\n",
              "        google.colab.kernel.accessAllowed ? 'block' : 'none';\n",
              "\n",
              "      async function convertToInteractive(key) {\n",
              "        const element = document.querySelector('#df-807e693c-4570-4452-87f7-e68f84cac4c5');\n",
              "        const dataTable =\n",
              "          await google.colab.kernel.invokeFunction('convertToInteractive',\n",
              "                                                    [key], {});\n",
              "        if (!dataTable) return;\n",
              "\n",
              "        const docLinkHtml = 'Like what you see? Visit the ' +\n",
              "          '<a target=\"_blank\" href=https://colab.research.google.com/notebooks/data_table.ipynb>data table notebook</a>'\n",
              "          + ' to learn more about interactive tables.';\n",
              "        element.innerHTML = '';\n",
              "        dataTable['output_type'] = 'display_data';\n",
              "        await google.colab.output.renderOutput(dataTable, element);\n",
              "        const docLink = document.createElement('div');\n",
              "        docLink.innerHTML = docLinkHtml;\n",
              "        element.appendChild(docLink);\n",
              "      }\n",
              "    </script>\n",
              "  </div>\n",
              "\n",
              "\n",
              "<div id=\"df-1e52a094-8c22-4d92-9de8-b7c2d223785e\">\n",
              "  <button class=\"colab-df-quickchart\" onclick=\"quickchart('df-1e52a094-8c22-4d92-9de8-b7c2d223785e')\"\n",
              "            title=\"Suggest charts\"\n",
              "            style=\"display:none;\">\n",
              "\n",
              "<svg xmlns=\"http://www.w3.org/2000/svg\" height=\"24px\"viewBox=\"0 0 24 24\"\n",
              "     width=\"24px\">\n",
              "    <g>\n",
              "        <path d=\"M19 3H5c-1.1 0-2 .9-2 2v14c0 1.1.9 2 2 2h14c1.1 0 2-.9 2-2V5c0-1.1-.9-2-2-2zM9 17H7v-7h2v7zm4 0h-2V7h2v10zm4 0h-2v-4h2v4z\"/>\n",
              "    </g>\n",
              "</svg>\n",
              "  </button>\n",
              "\n",
              "<style>\n",
              "  .colab-df-quickchart {\n",
              "      --bg-color: #E8F0FE;\n",
              "      --fill-color: #1967D2;\n",
              "      --hover-bg-color: #E2EBFA;\n",
              "      --hover-fill-color: #174EA6;\n",
              "      --disabled-fill-color: #AAA;\n",
              "      --disabled-bg-color: #DDD;\n",
              "  }\n",
              "\n",
              "  [theme=dark] .colab-df-quickchart {\n",
              "      --bg-color: #3B4455;\n",
              "      --fill-color: #D2E3FC;\n",
              "      --hover-bg-color: #434B5C;\n",
              "      --hover-fill-color: #FFFFFF;\n",
              "      --disabled-bg-color: #3B4455;\n",
              "      --disabled-fill-color: #666;\n",
              "  }\n",
              "\n",
              "  .colab-df-quickchart {\n",
              "    background-color: var(--bg-color);\n",
              "    border: none;\n",
              "    border-radius: 50%;\n",
              "    cursor: pointer;\n",
              "    display: none;\n",
              "    fill: var(--fill-color);\n",
              "    height: 32px;\n",
              "    padding: 0;\n",
              "    width: 32px;\n",
              "  }\n",
              "\n",
              "  .colab-df-quickchart:hover {\n",
              "    background-color: var(--hover-bg-color);\n",
              "    box-shadow: 0 1px 2px rgba(60, 64, 67, 0.3), 0 1px 3px 1px rgba(60, 64, 67, 0.15);\n",
              "    fill: var(--button-hover-fill-color);\n",
              "  }\n",
              "\n",
              "  .colab-df-quickchart-complete:disabled,\n",
              "  .colab-df-quickchart-complete:disabled:hover {\n",
              "    background-color: var(--disabled-bg-color);\n",
              "    fill: var(--disabled-fill-color);\n",
              "    box-shadow: none;\n",
              "  }\n",
              "\n",
              "  .colab-df-spinner {\n",
              "    border: 2px solid var(--fill-color);\n",
              "    border-color: transparent;\n",
              "    border-bottom-color: var(--fill-color);\n",
              "    animation:\n",
              "      spin 1s steps(1) infinite;\n",
              "  }\n",
              "\n",
              "  @keyframes spin {\n",
              "    0% {\n",
              "      border-color: transparent;\n",
              "      border-bottom-color: var(--fill-color);\n",
              "      border-left-color: var(--fill-color);\n",
              "    }\n",
              "    20% {\n",
              "      border-color: transparent;\n",
              "      border-left-color: var(--fill-color);\n",
              "      border-top-color: var(--fill-color);\n",
              "    }\n",
              "    30% {\n",
              "      border-color: transparent;\n",
              "      border-left-color: var(--fill-color);\n",
              "      border-top-color: var(--fill-color);\n",
              "      border-right-color: var(--fill-color);\n",
              "    }\n",
              "    40% {\n",
              "      border-color: transparent;\n",
              "      border-right-color: var(--fill-color);\n",
              "      border-top-color: var(--fill-color);\n",
              "    }\n",
              "    60% {\n",
              "      border-color: transparent;\n",
              "      border-right-color: var(--fill-color);\n",
              "    }\n",
              "    80% {\n",
              "      border-color: transparent;\n",
              "      border-right-color: var(--fill-color);\n",
              "      border-bottom-color: var(--fill-color);\n",
              "    }\n",
              "    90% {\n",
              "      border-color: transparent;\n",
              "      border-bottom-color: var(--fill-color);\n",
              "    }\n",
              "  }\n",
              "</style>\n",
              "\n",
              "  <script>\n",
              "    async function quickchart(key) {\n",
              "      const quickchartButtonEl =\n",
              "        document.querySelector('#' + key + ' button');\n",
              "      quickchartButtonEl.disabled = true;  // To prevent multiple clicks.\n",
              "      quickchartButtonEl.classList.add('colab-df-spinner');\n",
              "      try {\n",
              "        const charts = await google.colab.kernel.invokeFunction(\n",
              "            'suggestCharts', [key], {});\n",
              "      } catch (error) {\n",
              "        console.error('Error during call to suggestCharts:', error);\n",
              "      }\n",
              "      quickchartButtonEl.classList.remove('colab-df-spinner');\n",
              "      quickchartButtonEl.classList.add('colab-df-quickchart-complete');\n",
              "    }\n",
              "    (() => {\n",
              "      let quickchartButtonEl =\n",
              "        document.querySelector('#df-1e52a094-8c22-4d92-9de8-b7c2d223785e button');\n",
              "      quickchartButtonEl.style.display =\n",
              "        google.colab.kernel.accessAllowed ? 'block' : 'none';\n",
              "    })();\n",
              "  </script>\n",
              "</div>\n",
              "\n",
              "    </div>\n",
              "  </div>\n"
            ],
            "application/vnd.google.colaboratory.intrinsic+json": {
              "type": "dataframe",
              "summary": "{\n  \"name\": \"df\",\n  \"rows\": 15,\n  \"fields\": [\n    {\n      \"column\": \"Nome da Pizza\",\n      \"properties\": {\n        \"dtype\": \"string\",\n        \"num_unique_values\": 15,\n        \"samples\": [\n          \"Calabresa\",\n          \"Napolitana\",\n          \"Pesto\"\n        ],\n        \"semantic_type\": \"\",\n        \"description\": \"\"\n      }\n    },\n    {\n      \"column\": \"Ingredientes\",\n      \"properties\": {\n        \"dtype\": \"string\",\n        \"num_unique_values\": 15,\n        \"samples\": [\n          \"Mussarela, Calabresa, Cebola\",\n          \"Tomate, Mussarela, Azeitona\",\n          \"Molho Pesto, Mussarela, Tomate\"\n        ],\n        \"semantic_type\": \"\",\n        \"description\": \"\"\n      }\n    },\n    {\n      \"column\": \"embedding\",\n      \"properties\": {\n        \"dtype\": \"object\",\n        \"semantic_type\": \"\",\n        \"description\": \"\"\n      }\n    },\n    {\n      \"column\": \"similarity\",\n      \"properties\": {\n        \"dtype\": \"number\",\n        \"std\": 0.052352160301969354,\n        \"min\": 0.4634136724110238,\n        \"max\": 0.640756768996123,\n        \"num_unique_values\": 15,\n        \"samples\": [\n          0.502350022481076,\n          0.49372041464273037,\n          0.640756768996123\n        ],\n        \"semantic_type\": \"\",\n        \"description\": \"\"\n      }\n    }\n  ]\n}"
            }
          },
          "metadata": {},
          "execution_count": 15
        }
      ]
    }
  ]
}