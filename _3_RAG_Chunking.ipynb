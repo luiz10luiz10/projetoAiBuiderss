{
  "nbformat": 4,
  "nbformat_minor": 0,
  "metadata": {
    "colab": {
      "provenance": [],
      "include_colab_link": true
    },
    "kernelspec": {
      "name": "python3",
      "display_name": "Python 3"
    },
    "language_info": {
      "name": "python"
    }
  },
  "cells": [
    {
      "cell_type": "markdown",
      "metadata": {
        "id": "view-in-github",
        "colab_type": "text"
      },
      "source": [
        "<a href=\"https://colab.research.google.com/github/luiz10luiz10/projetoAiBuiderss/blob/main/_3_RAG_Chunking.ipynb\" target=\"_parent\"><img src=\"https://colab.research.google.com/assets/colab-badge.svg\" alt=\"Open In Colab\"/></a>"
      ]
    },
    {
      "cell_type": "code",
      "execution_count": null,
      "metadata": {
        "id": "2BaDCLDYXwg_",
        "colab": {
          "base_uri": "https://localhost:8080/"
        },
        "outputId": "ca28b061-fabf-47e0-ea74-e7d3b4a5f404"
      },
      "outputs": [
        {
          "output_type": "stream",
          "name": "stdout",
          "text": [
            "\u001b[2K     \u001b[90m━━━━━━━━━━━━━━━━━━━━━━━━━━━━━━━━━━━━━━━━\u001b[0m \u001b[32m50.6/50.6 kB\u001b[0m \u001b[31m1.1 MB/s\u001b[0m eta \u001b[36m0:00:00\u001b[0m\n",
            "\u001b[2K   \u001b[90m━━━━━━━━━━━━━━━━━━━━━━━━━━━━━━━━━━━━━━━━\u001b[0m \u001b[32m1.0/1.0 MB\u001b[0m \u001b[31m16.1 MB/s\u001b[0m eta \u001b[36m0:00:00\u001b[0m\n",
            "\u001b[2K   \u001b[90m━━━━━━━━━━━━━━━━━━━━━━━━━━━━━━━━━━━━━━━━\u001b[0m \u001b[32m1.2/1.2 MB\u001b[0m \u001b[31m37.2 MB/s\u001b[0m eta \u001b[36m0:00:00\u001b[0m\n",
            "\u001b[2K   \u001b[90m━━━━━━━━━━━━━━━━━━━━━━━━━━━━━━━━━━━━━━━━\u001b[0m \u001b[32m407.7/407.7 kB\u001b[0m \u001b[31m19.2 MB/s\u001b[0m eta \u001b[36m0:00:00\u001b[0m\n",
            "\u001b[2K   \u001b[90m━━━━━━━━━━━━━━━━━━━━━━━━━━━━━━━━━━━━━━━━\u001b[0m \u001b[32m296.7/296.7 kB\u001b[0m \u001b[31m14.8 MB/s\u001b[0m eta \u001b[36m0:00:00\u001b[0m\n",
            "\u001b[2K   \u001b[90m━━━━━━━━━━━━━━━━━━━━━━━━━━━━━━━━━━━━━━━━\u001b[0m \u001b[32m76.4/76.4 kB\u001b[0m \u001b[31m4.1 MB/s\u001b[0m eta \u001b[36m0:00:00\u001b[0m\n",
            "\u001b[2K   \u001b[90m━━━━━━━━━━━━━━━━━━━━━━━━━━━━━━━━━━━━━━━━\u001b[0m \u001b[32m78.0/78.0 kB\u001b[0m \u001b[31m4.4 MB/s\u001b[0m eta \u001b[36m0:00:00\u001b[0m\n",
            "\u001b[2K   \u001b[90m━━━━━━━━━━━━━━━━━━━━━━━━━━━━━━━━━━━━━━━━\u001b[0m \u001b[32m144.5/144.5 kB\u001b[0m \u001b[31m8.4 MB/s\u001b[0m eta \u001b[36m0:00:00\u001b[0m\n",
            "\u001b[2K   \u001b[90m━━━━━━━━━━━━━━━━━━━━━━━━━━━━━━━━━━━━━━━━\u001b[0m \u001b[32m54.5/54.5 kB\u001b[0m \u001b[31m2.9 MB/s\u001b[0m eta \u001b[36m0:00:00\u001b[0m\n",
            "\u001b[2K   \u001b[90m━━━━━━━━━━━━━━━━━━━━━━━━━━━━━━━━━━━━━━━━\u001b[0m \u001b[32m58.3/58.3 kB\u001b[0m \u001b[31m4.2 MB/s\u001b[0m eta \u001b[36m0:00:00\u001b[0m\n",
            "\u001b[?25h"
          ]
        }
      ],
      "source": [
        "#instalando a bilblioteca lagchhain\n",
        "!pip install --quiet langchain tiktoken"
      ]
    },
    {
      "cell_type": "code",
      "source": [
        "#puxandoa as principais funçoes da biblioteca para fazer os chunks.\n",
        "\n",
        "\n",
        "import langchain\n",
        "from langchain.text_splitter import RecursiveCharacterTextSplitter, CharacterTextSplitter, TokenTextSplitter"
      ],
      "metadata": {
        "id": "VVmWlVcKY78q"
      },
      "execution_count": null,
      "outputs": []
    },
    {
      "cell_type": "markdown",
      "source": [
        "Pizza[1] (português brasileiro) ou piza[2] (português europeu) é uma preparação culinária que consiste em um disco de massa fermentada de farinha de trigo, coberto com molho de tomate e os ingredientes variados que normalmente incluem algum tipo de queijo, carnes preparadas ou defumadas e ervas, normalmente orégano ou manjericão, tudo assado em forno.\n",
        "\n",
        "O termo pizza foi registrado pela primeira vez no ano de 997 d.C., em um manuscrito em latim da cidade do sul da Itália de Gaeta, em Lazio, na fronteira com Campânia.[3][4][5] Raffaele Esposito é frequentemente creditado por criar a pizza moderna em Nápoles.[6][7][8][9] Em 2009, a pizza napolitana foi registrada junto à União Europeia como um prato de especialidade tradicional garantida. Em 2017, a arte de fazer pizza napolitana foi adicionada à lista de patrimônio cultural imaterial da UNESCO.[10]\n",
        "\n",
        "Pizza e suas variantes estão entre os alimentos mais populares do mundo. Pizza é vendida em uma variedade de restaurantes, incluindo pizzarias (restaurantes especializados em pizza), restaurantes mediterrâneos, via entrega e como comida de rua.[11] Na Itália, a pizza servida em um restaurante é apresentada sem ser cortada e é comida com o uso de faca e garfo.[12][13] No entanto, em ambientes informais, geralmente é cortada em fatias para ser comida com as mãos. Pizza também é vendida em mercados em uma variedade de formas, incluindo congelada ou como kits para montagem própria. Em seguida, são cozidas usando um forno doméstico.\n",
        "\n",
        "Em 2017, o mercado mundial de pizza era de US$ 128 bilhões, e nos EUA era de $44 bilhões distribuídos em 76.000 pizzarias.[14] No geral, 13% da população dos EUA com dois anos ou mais consumia pizza em qualquer dia dado.[15]"
      ],
      "metadata": {
        "id": "W7erxh4dZg01"
      }
    },
    {
      "cell_type": "code",
      "source": [
        "text = \"\"\"Pizza[1] (português brasileiro) ou piza[2] (português europeu) é uma preparação culinária que consiste em um disco de massa fermentada de farinha de trigo, coberto com molho de tomate e os ingredientes variados que normalmente incluem algum tipo de queijo, carnes preparadas ou defumadas e ervas, normalmente orégano ou manjericão, tudo assado em forno.\n",
        "\n",
        "O termo pizza foi registrado pela primeira vez no ano de 997 d.C., em um manuscrito em latim da cidade do sul da Itália de Gaeta, em Lazio, na fronteira com Campânia.[3][4][5] Raffaele Esposito é frequentemente creditado por criar a pizza moderna em Nápoles.[6][7][8][9] Em 2009, a pizza napolitana foi registrada junto à União Europeia como um prato de especialidade tradicional garantida. Em 2017, a arte de fazer pizza napolitana foi adicionada à lista de patrimônio cultural imaterial da UNESCO.[10]\n",
        "\n",
        "Pizza e suas variantes estão entre os alimentos mais populares do mundo. Pizza é vendida em uma variedade de restaurantes, incluindo pizzarias (restaurantes especializados em pizza), restaurantes mediterrâneos, via entrega e como comida de rua.[11] Na Itália, a pizza servida em um restaurante é apresentada sem ser cortada e é comida com o uso de faca e garfo.[12][13] No entanto, em ambientes informais, geralmente é cortada em fatias para ser comida com as mãos. Pizza também é vendida em mercados em uma variedade de formas, incluindo congelada ou como kits para montagem própria. Em seguida, são cozidas usando um forno doméstico.\n",
        "\n",
        "Em 2017, o mercado mundial de pizza era de US$ 128 bilhões, e nos EUA era de $44 bilhões distribuídos em 76.000 pizzarias.[14] No geral, 13% da população dos EUA com dois anos ou mais consumia pizza em qualquer dia dado.[15]\n",
        "\n",
        "\"\"\"\n",
        "\n",
        "text"
      ],
      "metadata": {
        "colab": {
          "base_uri": "https://localhost:8080/",
          "height": 126
        },
        "id": "hdaFI1mSZkKs",
        "outputId": "31b9c601-cc02-490f-e691-33301974b051"
      },
      "execution_count": null,
      "outputs": [
        {
          "output_type": "execute_result",
          "data": {
            "text/plain": [
              "'Pizza[1] (português brasileiro) ou piza[2] (português europeu) é uma preparação culinária que consiste em um disco de massa fermentada de farinha de trigo, coberto com molho de tomate e os ingredientes variados que normalmente incluem algum tipo de queijo, carnes preparadas ou defumadas e ervas, normalmente orégano ou manjericão, tudo assado em forno.\\n\\nO termo pizza foi registrado pela primeira vez no ano de 997 d.C., em um manuscrito em latim da cidade do sul da Itália de Gaeta, em Lazio, na fronteira com Campânia.[3][4][5] Raffaele Esposito é frequentemente creditado por criar a pizza moderna em Nápoles.[6][7][8][9] Em 2009, a pizza napolitana foi registrada junto à União Europeia como um prato de especialidade tradicional garantida. Em 2017, a arte de fazer pizza napolitana foi adicionada à lista de patrimônio cultural imaterial da UNESCO.[10]\\n\\nPizza e suas variantes estão entre os alimentos mais populares do mundo. Pizza é vendida em uma variedade de restaurantes, incluindo pizzarias (restaurantes especializados em pizza), restaurantes mediterrâneos, via entrega e como comida de rua.[11] Na Itália, a pizza servida em um restaurante é apresentada sem ser cortada e é comida com o uso de faca e garfo.[12][13] No entanto, em ambientes informais, geralmente é cortada em fatias para ser comida com as mãos. Pizza também é vendida em mercados em uma variedade de formas, incluindo congelada ou como kits para montagem própria. Em seguida, são cozidas usando um forno doméstico.\\n\\nEm 2017, o mercado mundial de pizza era de US$ 128 bilhões, e nos EUA era de $44 bilhões distribuídos em 76.000 pizzarias.[14] No geral, 13% da população dos EUA com dois anos ou mais consumia pizza em qualquer dia dado.[15]\\n\\n'"
            ],
            "application/vnd.google.colaboratory.intrinsic+json": {
              "type": "string"
            }
          },
          "metadata": {},
          "execution_count": 4
        }
      ]
    },
    {
      "cell_type": "markdown",
      "source": [
        "## Separando nosso texto em Chunks\n",
        "\n",
        "Não existe uma forma perfeita de separar documentos\n",
        "\n",
        "Leve em consideração:\n",
        "- Seções mais longas podem ser melhores para perguntas que requerem mais contexto...\n",
        "- ...mas também podem ser ruins pois o contexto pode ter vários tópicos juntos\n",
        "- Seções mais curtas podem economizar tokens\n",
        "- Também com seções mais curtas podemos retornar para o LLM mais seções, o que pode tornar as respostas mais confiáveis\n",
        "- Overlap (sobreposição) de chunks pode ajudar com contexto que seria cortado\n",
        "\n",
        "\n",
        "Algumas formas de fazer chunks:\n",
        "https://python.langchain.com/v0.1/docs/modules/data_connection/document_transformers/"
      ],
      "metadata": {
        "id": "k-7HGelyfaXe"
      }
    },
    {
      "cell_type": "markdown",
      "source": [
        "## Recursive Character Text Splitter\n",
        "Aqui o Langchain tenta quebrar seu texto com alguns marcadores especiais\n",
        "\n",
        "- Parágrafo (\"\\n\\n\")\n",
        "- Frases (\"\\n\")\n",
        "- Palavras (\" \")\n",
        "- Caracteres (\"\")"
      ],
      "metadata": {
        "id": "36IXQdwBc3e8"
      }
    },
    {
      "cell_type": "code",
      "source": [
        "recursive_text = RecursiveCharacterTextSplitter( # cria variavel para chamar o a funçao da bilblioteca\n",
        "    chunk_size=500, #quantidade de caracteres que vc quer conseiderar para cada chuncks\n",
        "    chunk_overlap=0, #Aqui define a quantidade de caracteres que pega do chunk anterior para poder meelhorar o contexto.\n",
        "    length_function=len # verifica a quantidade de chuncks que foi criada ! não necessario\n",
        ")\n",
        "\n",
        "chunks = recursive_text.split_text(text)"
      ],
      "metadata": {
        "id": "UMol9YegZuyR"
      },
      "execution_count": null,
      "outputs": []
    },
    {
      "cell_type": "code",
      "source": [
        "len(chunks)"
      ],
      "metadata": {
        "colab": {
          "base_uri": "https://localhost:8080/"
        },
        "id": "wTdqi-GfZ3nG",
        "outputId": "101e42f7-fc5e-46ec-9598-d86896af529c"
      },
      "execution_count": null,
      "outputs": [
        {
          "output_type": "execute_result",
          "data": {
            "text/plain": [
              "6"
            ]
          },
          "metadata": {},
          "execution_count": 83
        }
      ]
    },
    {
      "cell_type": "code",
      "source": [
        "for (i, _ ) in enumerate(chunks):#o loop paara aparesentar como ficou a quantidade de chunks e quantidade de caracteres em cada um deles\n",
        "  print(f\"chunk {i}, size: {len(chunks[i])}\")"
      ],
      "metadata": {
        "colab": {
          "base_uri": "https://localhost:8080/"
        },
        "id": "Qn7EYXjSaDO2",
        "outputId": "95384a88-1c8f-4bbc-a57f-df5424992d1b"
      },
      "execution_count": null,
      "outputs": [
        {
          "output_type": "stream",
          "name": "stdout",
          "text": [
            "chunk 0, size: 353\n",
            "chunk 1, size: 491\n",
            "chunk 2, size: 11\n",
            "chunk 3, size: 491\n",
            "chunk 4, size: 143\n",
            "chunk 5, size: 224\n"
          ]
        }
      ]
    },
    {
      "cell_type": "code",
      "source": [
        "for (_, chunk) in enumerate(chunks):# Mostrar como ficou cada um dos chunks\n",
        "    print(f'Chunk {_}')\n",
        "    print(chunk)\n",
        "    print('---')"
      ],
      "metadata": {
        "colab": {
          "base_uri": "https://localhost:8080/"
        },
        "id": "7YjEh6YLZ8KO",
        "outputId": "e9b7f655-b5a8-48c0-f6b4-95b7553dd4b4"
      },
      "execution_count": null,
      "outputs": [
        {
          "output_type": "stream",
          "name": "stdout",
          "text": [
            "Chunk 0\n",
            "Pizza[1] (português brasileiro) ou piza[2] (português europeu) é uma preparação culinária que consiste em um disco de massa fermentada de farinha de trigo, coberto com molho de tomate e os ingredientes variados que normalmente incluem algum tipo de queijo, carnes preparadas ou defumadas e ervas, normalmente orégano ou manjericão, tudo assado em forno.\n",
            "---\n",
            "Chunk 1\n",
            "O termo pizza foi registrado pela primeira vez no ano de 997 d.C., em um manuscrito em latim da cidade do sul da Itália de Gaeta, em Lazio, na fronteira com Campânia.[3][4][5] Raffaele Esposito é frequentemente creditado por criar a pizza moderna em Nápoles.[6][7][8][9] Em 2009, a pizza napolitana foi registrada junto à União Europeia como um prato de especialidade tradicional garantida. Em 2017, a arte de fazer pizza napolitana foi adicionada à lista de patrimônio cultural imaterial da\n",
            "---\n",
            "Chunk 2\n",
            "UNESCO.[10]\n",
            "---\n",
            "Chunk 3\n",
            "Pizza e suas variantes estão entre os alimentos mais populares do mundo. Pizza é vendida em uma variedade de restaurantes, incluindo pizzarias (restaurantes especializados em pizza), restaurantes mediterrâneos, via entrega e como comida de rua.[11] Na Itália, a pizza servida em um restaurante é apresentada sem ser cortada e é comida com o uso de faca e garfo.[12][13] No entanto, em ambientes informais, geralmente é cortada em fatias para ser comida com as mãos. Pizza também é vendida em\n",
            "---\n",
            "Chunk 4\n",
            "mercados em uma variedade de formas, incluindo congelada ou como kits para montagem própria. Em seguida, são cozidas usando um forno doméstico.\n",
            "---\n",
            "Chunk 5\n",
            "Em 2017, o mercado mundial de pizza era de US$ 128 bilhões, e nos EUA era de $44 bilhões distribuídos em 76.000 pizzarias.[14] No geral, 13% da população dos EUA com dois anos ou mais consumia pizza em qualquer dia dado.[15]\n",
            "---\n"
          ]
        }
      ]
    },
    {
      "cell_type": "markdown",
      "source": [
        "## Character Text Splitter\n",
        "Usado para separar seu texto com caracteres especiais\n",
        "\n",
        "No caso abaixo, usamos \"\\n\\n\" para separar por parágrafos.\n",
        "Você pode utilizar qualquer separador que desejar"
      ],
      "metadata": {
        "id": "sgxCs0ERdWtv"
      }
    },
    {
      "cell_type": "code",
      "source": [
        "text_splitter = CharacterTextSplitter(\n",
        "    separator=\"\\n\\n\",\n",
        "    chunk_size=500,\n",
        "    chunk_overlap=0,\n",
        "    length_function=len,\n",
        "    is_separator_regex=False,\n",
        ")\n",
        "\n",
        "text_splitter_chunks = text_splitter.split_text(text)\n"
      ],
      "metadata": {
        "id": "JY1MGuHrb7sN"
      },
      "execution_count": null,
      "outputs": []
    },
    {
      "cell_type": "code",
      "source": [
        "len(text_splitter_chunks)"
      ],
      "metadata": {
        "colab": {
          "base_uri": "https://localhost:8080/"
        },
        "id": "5JMZu52ScQU7",
        "outputId": "b1c6dbef-9215-47fa-faab-83e196432c19"
      },
      "execution_count": null,
      "outputs": [
        {
          "output_type": "execute_result",
          "data": {
            "text/plain": [
              "17"
            ]
          },
          "metadata": {},
          "execution_count": 71
        }
      ]
    },
    {
      "cell_type": "code",
      "source": [
        "for (i, _ ) in enumerate(text_splitter_chunks):\n",
        "  print(f\"chunk {i}, size: {len(text_splitter_chunks[i])}\")"
      ],
      "metadata": {
        "colab": {
          "base_uri": "https://localhost:8080/"
        },
        "id": "mUiyYUjxcgWB",
        "outputId": "2b2be019-a74b-4ed2-b97e-eecac5dd536a"
      },
      "execution_count": null,
      "outputs": [
        {
          "output_type": "stream",
          "name": "stdout",
          "text": [
            "chunk 0, size: 148\n",
            "chunk 1, size: 145\n",
            "chunk 2, size: 144\n",
            "chunk 3, size: 150\n",
            "chunk 4, size: 150\n",
            "chunk 5, size: 144\n",
            "chunk 6, size: 140\n",
            "chunk 7, size: 141\n",
            "chunk 8, size: 150\n",
            "chunk 9, size: 145\n",
            "chunk 10, size: 148\n",
            "chunk 11, size: 147\n",
            "chunk 12, size: 145\n",
            "chunk 13, size: 145\n",
            "chunk 14, size: 150\n",
            "chunk 15, size: 150\n",
            "chunk 16, size: 119\n"
          ]
        }
      ]
    },
    {
      "cell_type": "code",
      "source": [
        "for (_, chunk) in enumerate(text_splitter_chunks):\n",
        "    print(f'Chunk {_}')\n",
        "    print(chunk)\n",
        "    print('---')"
      ],
      "metadata": {
        "colab": {
          "base_uri": "https://localhost:8080/"
        },
        "id": "2wYmstOucUSx",
        "outputId": "464a30ba-faac-4fea-c10a-3647c0f1edfa"
      },
      "execution_count": null,
      "outputs": [
        {
          "output_type": "stream",
          "name": "stdout",
          "text": [
            "Chunk 0\n",
            "Pizza[1] (português brasileiro) ou piza[2] (português europeu) é uma preparação culinária que consiste em um disco de massa fermentada de farinha de\n",
            "---\n",
            "Chunk 1\n",
            "em um disco de massa fermentada de farinha de trigo, coberto com molho de tomate e os ingredientes variados que normalmente incluem algum tipo de\n",
            "---\n",
            "Chunk 2\n",
            "variados que normalmente incluem algum tipo de queijo, carnes preparadas ou defumadas e ervas, normalmente orégano ou manjericão, tudo assado em\n",
            "---\n",
            "Chunk 3\n",
            "normalmente orégano ou manjericão, tudo assado em forno.\n",
            "\n",
            "O termo pizza foi registrado pela primeira vez no ano de 997 d.C., em um manuscrito em latim\n",
            "---\n",
            "Chunk 4\n",
            "vez no ano de 997 d.C., em um manuscrito em latim da cidade do sul da Itália de Gaeta, em Lazio, na fronteira com Campânia.[3][4][5] Raffaele Esposito\n",
            "---\n",
            "Chunk 5\n",
            "fronteira com Campânia.[3][4][5] Raffaele Esposito é frequentemente creditado por criar a pizza moderna em Nápoles.[6][7][8][9] Em 2009, a pizza\n",
            "---\n",
            "Chunk 6\n",
            "moderna em Nápoles.[6][7][8][9] Em 2009, a pizza napolitana foi registrada junto à União Europeia como um prato de especialidade tradicional\n",
            "---\n",
            "Chunk 7\n",
            "como um prato de especialidade tradicional garantida. Em 2017, a arte de fazer pizza napolitana foi adicionada à lista de patrimônio cultural\n",
            "---\n",
            "Chunk 8\n",
            "foi adicionada à lista de patrimônio cultural imaterial da UNESCO.[10]\n",
            "\n",
            "Pizza e suas variantes estão entre os alimentos mais populares do mundo. Pizza\n",
            "---\n",
            "Chunk 9\n",
            "entre os alimentos mais populares do mundo. Pizza é vendida em uma variedade de restaurantes, incluindo pizzarias (restaurantes especializados em\n",
            "---\n",
            "Chunk 10\n",
            "pizzarias (restaurantes especializados em pizza), restaurantes mediterrâneos, via entrega e como comida de rua.[11] Na Itália, a pizza servida em um\n",
            "---\n",
            "Chunk 11\n",
            "de rua.[11] Na Itália, a pizza servida em um restaurante é apresentada sem ser cortada e é comida com o uso de faca e garfo.[12][13] No entanto, em\n",
            "---\n",
            "Chunk 12\n",
            "com o uso de faca e garfo.[12][13] No entanto, em ambientes informais, geralmente é cortada em fatias para ser comida com as mãos. Pizza também é\n",
            "---\n",
            "Chunk 13\n",
            "fatias para ser comida com as mãos. Pizza também é vendida em mercados em uma variedade de formas, incluindo congelada ou como kits para montagem\n",
            "---\n",
            "Chunk 14\n",
            "incluindo congelada ou como kits para montagem própria. Em seguida, são cozidas usando um forno doméstico.\n",
            "\n",
            "Em 2017, o mercado mundial de pizza era de\n",
            "---\n",
            "Chunk 15\n",
            "2017, o mercado mundial de pizza era de US$ 128 bilhões, e nos EUA era de $44 bilhões distribuídos em 76.000 pizzarias.[14] No geral, 13% da população\n",
            "---\n",
            "Chunk 16\n",
            "76.000 pizzarias.[14] No geral, 13% da população dos EUA com dois anos ou mais consumia pizza em qualquer dia dado.[15]\n",
            "---\n"
          ]
        }
      ]
    },
    {
      "cell_type": "markdown",
      "source": [
        "## Token Text Splitter\n"
      ],
      "metadata": {
        "id": "UUz4XE-vdwGG"
      }
    },
    {
      "cell_type": "code",
      "source": [
        "text_splitter = CharacterTextSplitter.from_tiktoken_encoder(chunk_size=500, chunk_overlap=0)\n",
        "token_chunks = text_splitter.split_text(text)\n",
        "\n",
        "len(token_chunks)"
      ],
      "metadata": {
        "colab": {
          "base_uri": "https://localhost:8080/"
        },
        "id": "MOKZxr4Id2TO",
        "outputId": "a2cc4e1e-8538-42d1-933f-8c8e50e2627e"
      },
      "execution_count": null,
      "outputs": [
        {
          "output_type": "execute_result",
          "data": {
            "text/plain": [
              "2"
            ]
          },
          "metadata": {},
          "execution_count": 80
        }
      ]
    },
    {
      "cell_type": "code",
      "source": [
        "for (_, chunk) in enumerate(token_chunks):\n",
        "    print(f'Chunk {_}')\n",
        "    print(chunk)\n",
        "    print('---')"
      ],
      "metadata": {
        "colab": {
          "base_uri": "https://localhost:8080/"
        },
        "id": "8bgg-onjeO39",
        "outputId": "52b3fc76-2d7a-43b3-f839-d5713b85534b"
      },
      "execution_count": null,
      "outputs": [
        {
          "output_type": "stream",
          "name": "stdout",
          "text": [
            "Chunk 0\n",
            "Pizza[1] (português brasileiro) ou piza[2] (português europeu) é uma preparação culinária que consiste em um disco de massa fermentada de farinha de trigo, coberto com molho de tomate e os ingredientes variados que normalmente incluem algum tipo de queijo, carnes preparadas ou defumadas e ervas, normalmente orégano ou manjericão, tudo assado em forno.\n",
            "\n",
            "O termo pizza foi registrado pela primeira vez no ano de 997 d.C., em um manuscrito em latim da cidade do sul da Itália de Gaeta, em Lazio, na fronteira com Campânia.[3][4][5] Raffaele Esposito é frequentemente creditado por criar a pizza moderna em Nápoles.[6][7][8][9] Em 2009, a pizza napolitana foi registrada junto à União Europeia como um prato de especialidade tradicional garantida. Em 2017, a arte de fazer pizza napolitana foi adicionada à lista de patrimônio cultural imaterial da UNESCO.[10]\n",
            "---\n",
            "Chunk 1\n",
            "Pizza e suas variantes estão entre os alimentos mais populares do mundo. Pizza é vendida em uma variedade de restaurantes, incluindo pizzarias (restaurantes especializados em pizza), restaurantes mediterrâneos, via entrega e como comida de rua.[11] Na Itália, a pizza servida em um restaurante é apresentada sem ser cortada e é comida com o uso de faca e garfo.[12][13] No entanto, em ambientes informais, geralmente é cortada em fatias para ser comida com as mãos. Pizza também é vendida em mercados em uma variedade de formas, incluindo congelada ou como kits para montagem própria. Em seguida, são cozidas usando um forno doméstico.\n",
            "\n",
            "Em 2017, o mercado mundial de pizza era de US$ 128 bilhões, e nos EUA era de $44 bilhões distribuídos em 76.000 pizzarias.[14] No geral, 13% da população dos EUA com dois anos ou mais consumia pizza em qualquer dia dado.[15]\n",
            "---\n"
          ]
        }
      ]
    }
  ]
}